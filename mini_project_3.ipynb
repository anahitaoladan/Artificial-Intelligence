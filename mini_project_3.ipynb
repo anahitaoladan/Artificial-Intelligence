{
  "nbformat": 4,
  "nbformat_minor": 0,
  "metadata": {
    "colab": {
      "provenance": [],
      "authorship_tag": "ABX9TyMfZ2jfWsbw/XpkGk50RSh6",
      "include_colab_link": true
    },
    "kernelspec": {
      "name": "python3",
      "display_name": "Python 3"
    },
    "language_info": {
      "name": "python"
    }
  },
  "cells": [
    {
      "cell_type": "markdown",
      "metadata": {
        "id": "view-in-github",
        "colab_type": "text"
      },
      "source": [
        "<a href=\"https://colab.research.google.com/github/anahitaoladan/Artificial-Intelligence/blob/main/mini_project_3.ipynb\" target=\"_parent\"><img src=\"https://colab.research.google.com/assets/colab-badge.svg\" alt=\"Open In Colab\"/></a>"
      ]
    },
    {
      "cell_type": "markdown",
      "source": [
        "بخش ۳ و۴ پرسش ۶"
      ],
      "metadata": {
        "id": "G39Av1_yu3KK"
      }
    },
    {
      "cell_type": "code",
      "source": [
        "!pip install scikit-fuzzy"
      ],
      "metadata": {
        "colab": {
          "base_uri": "https://localhost:8080/"
        },
        "id": "YUR9-CKgvGfp",
        "outputId": "b13c8761-a100-45ce-c7fe-0b42c78c62ff"
      },
      "execution_count": null,
      "outputs": [
        {
          "output_type": "stream",
          "name": "stdout",
          "text": [
            "Collecting scikit-fuzzy\n",
            "  Downloading scikit_fuzzy-0.5.0-py2.py3-none-any.whl.metadata (2.6 kB)\n",
            "Downloading scikit_fuzzy-0.5.0-py2.py3-none-any.whl (920 kB)\n",
            "\u001b[2K   \u001b[90m━━━━━━━━━━━━━━━━━━━━━━━━━━━━━━━━━━━━━━━━\u001b[0m \u001b[32m920.8/920.8 kB\u001b[0m \u001b[31m11.2 MB/s\u001b[0m eta \u001b[36m0:00:00\u001b[0m\n",
            "\u001b[?25hInstalling collected packages: scikit-fuzzy\n",
            "Successfully installed scikit-fuzzy-0.5.0\n"
          ]
        }
      ]
    },
    {
      "cell_type": "code",
      "source": [
        "import numpy as np\n",
        "import matplotlib.pyplot as plt\n",
        "import skfuzzy as fuzz\n",
        "from skfuzzy import control as ctrl\n",
        "\n",
        "# ---------- 1. Define fuzzy variables ---------- #\n",
        "distance = ctrl.Antecedent(np.linspace(0, 3, 100), 'distance')\n",
        "angle = ctrl.Antecedent(np.linspace(-np.pi, np.pi, 100), 'angle')\n",
        "v = ctrl.Consequent(np.linspace(0, 0.5, 100), 'v')\n",
        "omega = ctrl.Consequent(np.linspace(-1, 1, 100), 'omega')\n",
        "\n",
        "# ---------- 2. Membership functions ---------- #\n",
        "# Distance\n",
        "distance['close'] = fuzz.trimf(distance.universe, [0, 0, 1])\n",
        "distance['medium'] = fuzz.trimf(distance.universe, [0.5, 1.5, 2.5])\n",
        "distance['far'] = fuzz.trimf(distance.universe, [1.5, 3, 3])\n",
        "\n",
        "# Angle\n",
        "angle['NL'] = fuzz.trimf(angle.universe, [-np.pi, -np.pi, -2])\n",
        "angle['NS'] = fuzz.trimf(angle.universe, [-np.pi, -1, 0])\n",
        "angle['Z'] = fuzz.trimf(angle.universe, [-0.3, 0, 0.3])\n",
        "angle['PS'] = fuzz.trimf(angle.universe, [0, 1, np.pi])\n",
        "angle['PL'] = fuzz.trimf(angle.universe, [2, np.pi, np.pi])\n",
        "\n",
        "# Linear speed\n",
        "v['slow'] = fuzz.trimf(v.universe, [0, 0, 0.2])\n",
        "v['medium'] = fuzz.trimf(v.universe, [0.1, 0.25, 0.4])\n",
        "v['fast'] = fuzz.trimf(v.universe, [0.3, 0.5, 0.5])\n",
        "\n",
        "# Angular speed\n",
        "omega['SL'] = fuzz.trimf(omega.universe, [-1, -1, -0.6])\n",
        "omega['L'] = fuzz.trimf(omega.universe, [-0.7, -0.3, -0.1])\n",
        "omega['Z'] = fuzz.trimf(omega.universe, [-0.2, 0, 0.2])\n",
        "omega['R'] = fuzz.trimf(omega.universe, [0.1, 0.3, 0.7])\n",
        "omega['SR'] = fuzz.trimf(omega.universe, [0.6, 1, 1])\n",
        "\n",
        "# ---------- 3. Fuzzy rules ---------- #\n",
        "rules = [\n",
        "    ctrl.Rule(distance['far'] & angle['NL'], (v['medium'], omega['SL'])),\n",
        "    ctrl.Rule(distance['far'] & angle['NS'], (v['fast'], omega['L'])),\n",
        "    ctrl.Rule(distance['far'] & angle['Z'], (v['fast'], omega['Z'])),\n",
        "    ctrl.Rule(distance['far'] & angle['PS'], (v['fast'], omega['R'])),\n",
        "    ctrl.Rule(distance['far'] & angle['PL'], (v['medium'], omega['SR'])),\n",
        "\n",
        "    ctrl.Rule(distance['medium'] & angle['NL'], (v['slow'], omega['SL'])),\n",
        "    ctrl.Rule(distance['medium'] & angle['NS'], (v['medium'], omega['L'])),\n",
        "    ctrl.Rule(distance['medium'] & angle['Z'], (v['medium'], omega['Z'])),\n",
        "    ctrl.Rule(distance['medium'] & angle['PS'], (v['medium'], omega['R'])),\n",
        "    ctrl.Rule(distance['medium'] & angle['PL'], (v['slow'], omega['SR'])),\n",
        "\n",
        "    ctrl.Rule(distance['close'] & angle['NL'], (v['slow'], omega['SL'])),\n",
        "    ctrl.Rule(distance['close'] & angle['NS'], (v['slow'], omega['L'])),\n",
        "    ctrl.Rule(distance['close'] & angle['Z'], (v['slow'], omega['Z'])),\n",
        "    ctrl.Rule(distance['close'] & angle['PS'], (v['slow'], omega['R'])),\n",
        "    ctrl.Rule(distance['close'] & angle['PL'], (v['slow'], omega['SR']))\n",
        "]\n",
        "\n",
        "# ---------- 4. Control system ---------- #\n",
        "control_system = ctrl.ControlSystem(rules)\n",
        "fuzzy_controller = ctrl.ControlSystemSimulation(control_system)\n",
        "\n",
        "# ---------- 5. Robot simulation ---------- #\n",
        "x, y, theta = 0, 0, 0\n",
        "xg, yg, thetag = 2, 2, np.pi/2\n",
        "trajectory = [(x, y)]\n",
        "\n",
        "dt = 0.1\n",
        "for _ in range(300):\n",
        "    d = np.sqrt((xg - x)**2 + (yg - y)**2)\n",
        "    if d < 0.05:\n",
        "        break\n",
        "\n",
        "    angle_to_goal = np.arctan2(yg - y, xg - x)\n",
        "    alpha = angle_to_goal - theta\n",
        "    alpha = (alpha + np.pi) % (2 * np.pi) - np.pi  # Normalize\n",
        "\n",
        "    fuzzy_controller.input['distance'] = d\n",
        "    fuzzy_controller.input['angle'] = alpha\n",
        "    fuzzy_controller.compute()\n",
        "\n",
        "    v_cmd = fuzzy_controller.output['v']\n",
        "    omega_cmd = fuzzy_controller.output['omega']\n",
        "\n",
        "    x += v_cmd * np.cos(theta) * dt\n",
        "    y += v_cmd * np.sin(theta) * dt\n",
        "    theta += omega_cmd * dt\n",
        "    trajectory.append((x, y))\n",
        "\n",
        "# ---------- 6. Plot path ---------- #\n",
        "trajectory = np.array(trajectory)\n",
        "plt.figure(figsize=(6,6))\n",
        "plt.plot(trajectory[:,0], trajectory[:,1], label='Robot Path')\n",
        "plt.plot(xg, yg, 'ro', label='Target')\n",
        "plt.xlabel('X Position')\n",
        "plt.ylabel('Y Position')\n",
        "plt.title('Robot Navigation using Fuzzy Control')\n",
        "plt.grid(True)\n",
        "plt.legend()\n",
        "plt.axis(\"equal\")\n",
        "plt.show()"
      ],
      "metadata": {
        "colab": {
          "base_uri": "https://localhost:8080/",
          "height": 564
        },
        "id": "yQf3FZcFu6eW",
        "outputId": "27e3c1a6-a0ad-46ab-dd2d-f8fea5edc20b"
      },
      "execution_count": null,
      "outputs": [
        {
          "output_type": "display_data",
          "data": {
            "text/plain": [
              "<Figure size 600x600 with 1 Axes>"
            ],
            "image/png": "[encoded data removed]"
          },
          "metadata": {}
        }
      ]
    },
    {
      "cell_type": "markdown",
      "source": [
        "پرسش ۷ بخش ۱"
      ],
      "metadata": {
        "id": "OBQq58JSXVY2"
      }
    },
    {
      "cell_type": "code",
      "source": [
        "https://drive.google.com/file/d/17apQsdAjw-33X0HA1CRNC_sC0G4R8n2E/view?usp=share_link"
      ],
      "metadata": {
        "colab": {
          "base_uri": "https://localhost:8080/",
          "height": 105
        },
        "id": "euMZsLSiTT7g",
        "outputId": "155bce83-1a2e-4d32-da74-389723b6ee4c"
      },
      "execution_count": null,
      "outputs": [
        {
          "output_type": "error",
          "ename": "SyntaxError",
          "evalue": "invalid decimal literal (ipython-input-1-939902592.py, line 1)",
          "traceback": [
            "\u001b[0;36m  File \u001b[0;32m\"/tmp/ipython-input-1-939902592.py\"\u001b[0;36m, line \u001b[0;32m1\u001b[0m\n\u001b[0;31m    https://drive.google.com/file/d/17apQsdAjw-33X0HA1CRNC_sC0G4R8n2E/view?usp=share_link\u001b[0m\n\u001b[0m                                     ^\u001b[0m\n\u001b[0;31mSyntaxError\u001b[0m\u001b[0;31m:\u001b[0m invalid decimal literal\n"
          ]
        }
      ]
    },
    {
      "cell_type": "code",
      "source": [
        "!pip install gdown\n",
        "\n",
        "import gdown\n",
        "\n",
        "file_id = \"17apQsdAjw-33X0HA1CRNC_sC0G4R8n2E\"\n",
        "\n",
        "url = f\"https://drive.google.com/uc?id={file_id}\"\n",
        "\n",
        "output = \"diabetes.csv\"\n",
        "\n",
        "\n",
        "gdown.download(url, output, quiet=False)"
      ],
      "metadata": {
        "colab": {
          "base_uri": "https://localhost:8080/",
          "height": 327
        },
        "id": "jneJrSR0TzOm",
        "outputId": "c403e333-092e-4a35-e219-be47b7d2502a"
      },
      "execution_count": null,
      "outputs": [
        {
          "output_type": "stream",
          "name": "stdout",
          "text": [
            "Requirement already satisfied: gdown in /usr/local/lib/python3.11/dist-packages (5.2.0)\n",
            "Requirement already satisfied: beautifulsoup4 in /usr/local/lib/python3.11/dist-packages (from gdown) (4.13.4)\n",
            "Requirement already satisfied: filelock in /usr/local/lib/python3.11/dist-packages (from gdown) (3.18.0)\n",
            "Requirement already satisfied: requests[socks] in /usr/local/lib/python3.11/dist-packages (from gdown) (2.32.3)\n",
            "Requirement already satisfied: tqdm in /usr/local/lib/python3.11/dist-packages (from gdown) (4.67.1)\n",
            "Requirement already satisfied: soupsieve>1.2 in /usr/local/lib/python3.11/dist-packages (from beautifulsoup4->gdown) (2.7)\n",
            "Requirement already satisfied: typing-extensions>=4.0.0 in /usr/local/lib/python3.11/dist-packages (from beautifulsoup4->gdown) (4.14.1)\n",
            "Requirement already satisfied: charset-normalizer<4,>=2 in /usr/local/lib/python3.11/dist-packages (from requests[socks]->gdown) (3.4.2)\n",
            "Requirement already satisfied: idna<4,>=2.5 in /usr/local/lib/python3.11/dist-packages (from requests[socks]->gdown) (3.10)\n",
            "Requirement already satisfied: urllib3<3,>=1.21.1 in /usr/local/lib/python3.11/dist-packages (from requests[socks]->gdown) (2.4.0)\n",
            "Requirement already satisfied: certifi>=2017.4.17 in /usr/local/lib/python3.11/dist-packages (from requests[socks]->gdown) (2025.7.14)\n",
            "Requirement already satisfied: PySocks!=1.5.7,>=1.5.6 in /usr/local/lib/python3.11/dist-packages (from requests[socks]->gdown) (1.7.1)\n"
          ]
        },
        {
          "output_type": "stream",
          "name": "stderr",
          "text": [
            "Downloading...\n",
            "From: https://drive.google.com/uc?id=17apQsdAjw-33X0HA1CRNC_sC0G4R8n2E\n",
            "To: /content/diabetes.csv\n",
            "100%|██████████| 23.9k/23.9k [00:00<00:00, 33.6MB/s]\n"
          ]
        },
        {
          "output_type": "execute_result",
          "data": {
            "text/plain": [
              "'diabetes.csv'"
            ],
            "application/vnd.google.colaboratory.intrinsic+json": {
              "type": "string"
            }
          },
          "metadata": {},
          "execution_count": 2
        }
      ]
    },
    {
      "cell_type": "code",
      "source": [
        "# Import libraries\n",
        "import pandas as pd\n",
        "from sklearn.model_selection import train_test_split\n",
        "from sklearn.preprocessing import StandardScaler\n",
        "\n",
        "# Read the CSV file\n",
        "df = pd.read_csv(\"diabetes.csv\")\n",
        "\n",
        "# Display the full dataset\n",
        "print(\"Full dataset:\")\n",
        "print(df)\n",
        "\n",
        "# Identify columns where zero values are not valid\n",
        "columns_to_fix = ['Glucose', 'BloodPressure', 'SkinThickness', 'Insulin', 'BMI']\n",
        "\n",
        "# Replace zeros with the median of each column\n",
        "for col in columns_to_fix:\n",
        "    median = df[col].median()\n",
        "    df[col] = df[col].replace(0, median)\n",
        "\n",
        "# Separate features (X) and target (y)\n",
        "X = df.drop(\"Outcome\", axis=1)\n",
        "y = df[\"Outcome\"]\n",
        "\n",
        "# Standardize the features\n",
        "scaler = StandardScaler()\n",
        "X_scaled = scaler.fit_transform(X)\n",
        "\n",
        "# Split the data into training and test sets (80% train, 20% test)\n",
        "X_train, X_test, y_train, y_test = train_test_split(\n",
        "    X_scaled, y, test_size=0.3, random_state=42\n",
        ")\n",
        "\n",
        "print(\"Preprocessing completed successfully.\")"
      ],
      "metadata": {
        "colab": {
          "base_uri": "https://localhost:8080/"
        },
        "id": "2L0KHIR1UWkk",
        "outputId": "c94552c7-0f33-4665-a748-2f11e7bbd6e9"
      },
      "execution_count": null,
      "outputs": [
        {
          "output_type": "stream",
          "name": "stdout",
          "text": [
            "Full dataset:\n",
            "     Pregnancies  Glucose  BloodPressure  SkinThickness  Insulin   BMI  \\\n",
            "0              6      148             72             35        0  33.6   \n",
            "1              1       85             66             29        0  26.6   \n",
            "2              8      183             64              0        0  23.3   \n",
            "3              1       89             66             23       94  28.1   \n",
            "4              0      137             40             35      168  43.1   \n",
            "..           ...      ...            ...            ...      ...   ...   \n",
            "763           10      101             76             48      180  32.9   \n",
            "764            2      122             70             27        0  36.8   \n",
            "765            5      121             72             23      112  26.2   \n",
            "766            1      126             60              0        0  30.1   \n",
            "767            1       93             70             31        0  30.4   \n",
            "\n",
            "     DiabetesPedigreeFunction  Age  Outcome  \n",
            "0                       0.627   50        1  \n",
            "1                       0.351   31        0  \n",
            "2                       0.672   32        1  \n",
            "3                       0.167   21        0  \n",
            "4                       2.288   33        1  \n",
            "..                        ...  ...      ...  \n",
            "763                     0.171   63        0  \n",
            "764                     0.340   27        0  \n",
            "765                     0.245   30        0  \n",
            "766                     0.349   47        1  \n",
            "767                     0.315   23        0  \n",
            "\n",
            "[768 rows x 9 columns]\n",
            "Preprocessing completed successfully.\n"
          ]
        }
      ]
    },
    {
      "cell_type": "markdown",
      "source": [
        "پرسش ۷ سوال ۲"
      ],
      "metadata": {
        "id": "VggqVhIGmsru"
      }
    },
    {
      "cell_type": "code",
      "source": [
        "import numpy as np\n",
        "import skfuzzy as fuzz\n",
        "from skfuzzy import control as ctrl\n",
        "\n",
        "# Define fuzzy variables\n",
        "glucose = ctrl.Antecedent(np.arange(0, 201, 1), 'glucose')\n",
        "bmi = ctrl.Antecedent(np.arange(10, 60, 1), 'bmi')\n",
        "age = ctrl.Antecedent(np.arange(10, 100, 1), 'age')\n",
        "bp = ctrl.Antecedent(np.arange(40, 130, 1), 'bp')\n",
        "risk = ctrl.Consequent(np.arange(0, 1.1, 0.1), 'risk')\n",
        "\n",
        "# Automatically generate fuzzy membership functions\n",
        "glucose.automf(names=['low', 'medium', 'high'])\n",
        "bmi.automf(names=['low', 'medium', 'high'])\n",
        "age.automf(names=['young', 'middle', 'old'])\n",
        "bp.automf(names=['low', 'normal', 'high'])\n",
        "risk.automf(names=['low', 'medium', 'high'])\n",
        "\n",
        "# Define fuzzy rules\n",
        "rules = [\n",
        "    ctrl.Rule(glucose['high'] & bmi['high'] & age['old'], risk['high']),\n",
        "    ctrl.Rule(glucose['medium'] & bmi['medium'] & age['middle'], risk['medium']),\n",
        "    ctrl.Rule(glucose['low'] & bmi['low'] & age['young'], risk['low']),\n",
        "    ctrl.Rule(bp['high'] & bmi['high'], risk['high']),\n",
        "    ctrl.Rule(bp['low'] & glucose['low'], risk['low']),\n",
        "    ctrl.Rule(age['old'] & glucose['medium'], risk['medium'])\n",
        "]\n",
        "\n",
        "# Create fuzzy control system\n",
        "risk_ctrl = ctrl.ControlSystem(rules)\n",
        "risk_sim = ctrl.ControlSystemSimulation(risk_ctrl)\n",
        "\n",
        "# Convert linguistic label to numerical midpoint value\n",
        "def linguistic_to_numeric(var_name, label):\n",
        "    midpoints = {\n",
        "        'age': {'young': 20, 'middle': 45, 'old': 75},\n",
        "        'bmi': {'low': 18, 'medium': 30, 'high': 42},\n",
        "        'glucose': {'low': 80, 'medium': 125, 'high': 180},\n",
        "        'bp': {'low': 60, 'normal': 80, 'high': 110}\n",
        "    }\n",
        "    return midpoints[var_name][label]\n",
        "\n",
        "# Get linguistic inputs from user\n",
        "age_label = input(\"What is the age level? (young / middle / old): \").strip().lower()\n",
        "bmi_label = input(\"What is the BMI level? (low / medium / high): \").strip().lower()\n",
        "glucose_label = input(\"What is the glucose level? (low / medium / high): \").strip().lower()\n",
        "bp_label = input(\"What is the blood pressure level? (low / normal / high): \").strip().lower()\n",
        "\n",
        "# Set inputs based on linguistic labels\n",
        "risk_sim.input['age'] = linguistic_to_numeric('age', age_label)\n",
        "risk_sim.input['bmi'] = linguistic_to_numeric('bmi', bmi_label)\n",
        "risk_sim.input['glucose'] = linguistic_to_numeric('glucose', glucose_label)\n",
        "risk_sim.input['bp'] = linguistic_to_numeric('bp', bp_label)\n",
        "\n",
        "# Run the fuzzy system\n",
        "risk_sim.compute()\n",
        "result = round(risk_sim.output['risk'], 3)\n",
        "\n",
        "# Output result\n",
        "print(\"\\nPredicted Diabetes Risk:\", result)\n",
        "if result < 0.3:\n",
        "    print(\"Risk Level: LOW\")\n",
        "elif result < 0.7:\n",
        "    print(\"Risk Level: MEDIUM\")\n",
        "else:\n",
        "    print(\"Risk Level: HIGH\")"
      ],
      "metadata": {
        "id": "_dIru29vz5fT",
        "colab": {
          "base_uri": "https://localhost:8080/"
        },
        "outputId": "ef834f4b-611e-459e-d55d-08ab1cb43229"
      },
      "execution_count": 28,
      "outputs": [
        {
          "output_type": "stream",
          "name": "stdout",
          "text": [
            "What is the age level? (young / middle / old): old\n",
            "What is the BMI level? (low / medium / high): low\n",
            "What is the glucose level? (low / medium / high): low\n",
            "What is the blood pressure level? (low / normal / high): low\n",
            "\n",
            "Predicted Diabetes Risk: 0.487\n",
            "Risk Level: MEDIUM\n"
          ]
        }
      ]
    },
    {
      "cell_type": "markdown",
      "source": [
        "پرسش ۷ سوال ۳"
      ],
      "metadata": {
        "id": "Mhe819Vl8Zzj"
      }
    },
    {
      "cell_type": "code",
      "source": [
        "import numpy as np\n",
        "from tensorflow.keras.models import Sequential\n",
        "from tensorflow.keras.layers import Dense\n",
        "\n",
        "# تعریف تابع برای تبدیل ورودی زبانی به عدد\n",
        "def linguistic_to_numeric(var_name, label):\n",
        "    midpoints = {\n",
        "        'age': {'young': 20, 'middle': 45, 'old': 75},\n",
        "        'bmi': {'low': 18, 'medium': 30, 'high': 42},\n",
        "        'glucose': {'low': 80, 'medium': 125, 'high': 180},\n",
        "        'bp': {'low': 60, 'normal': 80, 'high': 110}\n",
        "    }\n",
        "    return midpoints[var_name][label]\n",
        "\n",
        "# گرفتن ورودی‌های زبانی از کاربر\n",
        "age_label = input(\"Age level (young / middle / old): \").strip().lower()\n",
        "bmi_label = input(\"BMI level (low / medium / high): \").strip().lower()\n",
        "glucose_label = input(\"Glucose level (low / medium / high): \").strip().lower()\n",
        "bp_label = input(\"Blood pressure level (low / normal / high): \").strip().lower()\n",
        "\n",
        "# تبدیل به مقادیر عددی\n",
        "age_val = linguistic_to_numeric('age', age_label)\n",
        "bmi_val = linguistic_to_numeric('bmi', bmi_label)\n",
        "glucose_val = linguistic_to_numeric('glucose', glucose_label)\n",
        "bp_val = linguistic_to_numeric('bp', bp_label)\n",
        "\n",
        "# آماده‌سازی ورودی برای شبکه\n",
        "X_input = np.array([[glucose_val, bmi_val, age_val, bp_val]])\n",
        "\n",
        "# تعریف یک مدل MLP بسیار ساده\n",
        "model = Sequential([\n",
        "    Dense(6, input_dim=4, activation='relu'),\n",
        "    Dense(3, activation='relu'),\n",
        "    Dense(1, activation='sigmoid')\n",
        "])\n",
        "\n",
        "# کامپایل مدل بدون آموزش (فقط برای اجرای ساختار)\n",
        "model.compile(optimizer='adam', loss='binary_crossentropy')\n",
        "\n",
        "# پیش‌بینی روی ورودی بدون آموزش مدل\n",
        "output = model.predict(X_input)\n",
        "\n",
        "# نمایش خروجی\n",
        "print(\"\\nPredicted output (risk):\", round(float(output[0][0]), 3))"
      ],
      "metadata": {
        "colab": {
          "base_uri": "https://localhost:8080/"
        },
        "id": "dRBB06z58ctO",
        "outputId": "0c534046-b403-45a6-819f-9fbc80681477"
      },
      "execution_count": 30,
      "outputs": [
        {
          "name": "stdout",
          "output_type": "stream",
          "text": [
            "Age level (young / middle / old): old\n",
            "BMI level (low / medium / high): low\n",
            "Glucose level (low / medium / high): low\n",
            "Blood pressure level (low / normal / high): low\n"
          ]
        },
        {
          "output_type": "stream",
          "name": "stderr",
          "text": [
            "/usr/local/lib/python3.11/dist-packages/keras/src/layers/core/dense.py:87: UserWarning: Do not pass an `input_shape`/`input_dim` argument to a layer. When using Sequential models, prefer using an `Input(shape)` object as the first layer in the model instead.\n",
            "  super().__init__(activity_regularizer=activity_regularizer, **kwargs)\n"
          ]
        },
        {
          "output_type": "stream",
          "name": "stdout",
          "text": [
            "\u001b[1m1/1\u001b[0m \u001b[32m━━━━━━━━━━━━━━━━━━━━\u001b[0m\u001b[37m\u001b[0m \u001b[1m0s\u001b[0m 161ms/step\n",
            "\n",
            "Predicted output (risk): 0.19\n"
          ]
        }
      ]
    }
  ]
}