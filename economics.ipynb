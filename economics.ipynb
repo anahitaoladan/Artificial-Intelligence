{
  "nbformat": 4,
  "nbformat_minor": 0,
  "metadata": {
    "colab": {
      "provenance": [],
      "authorship_tag": "ABX9TyPr8FcktPKjtjWy5pdpx5gU",
      "include_colab_link": true
    },
    "kernelspec": {
      "name": "python3",
      "display_name": "Python 3"
    },
    "language_info": {
      "name": "python"
    }
  },
  "cells": [
    {
      "cell_type": "markdown",
      "metadata": {
        "id": "view-in-github",
        "colab_type": "text"
      },
      "source": [
        "<a href=\"https://colab.research.google.com/github/anahitaoladan/Artificial-Intelligence/blob/main/economics.ipynb\" target=\"_parent\"><img src=\"https://colab.research.google.com/assets/colab-badge.svg\" alt=\"Open In Colab\"/></a>"
      ]
    },
    {
      "cell_type": "markdown",
      "source": [
        "پروژه ی اقتصاد مهندسی"
      ],
      "metadata": {
        "id": "AJTSqK1Q4rwt"
      }
    },
    {
      "cell_type": "code",
      "source": [
        "def npw(initial_cost, maintenance, salvage, rate, n):\n",
        "    total = -initial_cost\n",
        "    for t in range(1, n + 1):\n",
        "        total += -maintenance / ((1 + rate) ** t)\n",
        "    total += salvage / ((1 + rate) ** n)\n",
        "    return total\n",
        "\n",
        "def neua(npw_value, rate, n):\n",
        "    factor = (rate * (1 + rate) ** n) / (((1 + rate) ** n) - 1)\n",
        "    return npw_value * factor\n",
        "\n",
        "def main():\n",
        "    print(\"===== مقایسه اقتصادی پروژه‌ها =====\")\n",
        "    num_projects = int(input(\"تعداد پروژه‌ها را وارد کنید: \"))\n",
        "\n",
        "    projects = []\n",
        "\n",
        "    for i in range(num_projects):\n",
        "        print(f\"\\n پروژه {i + 1} \")\n",
        "        name = input(\"نام پروژه: \")\n",
        "        initial_cost = float(input(\"هزینه اولیه: \"))\n",
        "        maintenance = float(input(\"هزینه سالیانه تعمیرات: \"))\n",
        "        salvage = float(input(\"ارزش اسقاطی: \"))\n",
        "        rate = float(input(\"نرخ بهره برای این پروژه: \"))\n",
        "        n = int(input(\"تعداد سال‌ها (عمر پروژه): \"))\n",
        "\n",
        "        projects.append({\n",
        "            \"name\": name,\n",
        "            \"initial_cost\": initial_cost,\n",
        "            \"maintenance\": maintenance,\n",
        "            \"salvage\": salvage,\n",
        "            \"rate\": rate,\n",
        "            \"n\": n\n",
        "        })\n",
        "\n",
        "    method = input(\"\\nروش محاسبه را وارد کنید (npw یا neua): \").strip().lower()\n",
        "\n",
        "    if method not in [\"npw\", \"neua\"]:\n",
        "        print(\"روش وارد شده اشتباه است.\")\n",
        "        return\n",
        "\n",
        "    results = []\n",
        "\n",
        "    for project in projects:\n",
        "        npw_val = npw(\n",
        "            project[\"initial_cost\"],\n",
        "            project[\"maintenance\"],\n",
        "            project[\"salvage\"],\n",
        "            project[\"rate\"],\n",
        "            project[\"n\"]\n",
        "        )\n",
        "\n",
        "        if method == \"npw\":\n",
        "            results.append((project[\"name\"], npw_val))\n",
        "        elif method == \"neua\":\n",
        "            neua_val = neua(npw_val, project[\"rate\"], project[\"n\"])\n",
        "            results.append((project[\"name\"], neua_val))\n",
        "\n",
        "    print(\"\\nنتایج پروژه‌ها:\")\n",
        "    for name, value in results:\n",
        "        print(f\"{name}: {value:.2f}\")\n",
        "\n",
        "    best = max(results, key=lambda x: x[1])\n",
        "    print(f\"\\n اقتصادی‌ترین پروژه بر اساس روش {method.upper()}: {best[0]} با مقدار {best[1]:.2f}\")\n",
        "\n",
        "if __name__ == \"__main__\":\n",
        "    main()"
      ],
      "metadata": {
        "colab": {
          "base_uri": "https://localhost:8080/"
        },
        "id": "C1ViWGd73kYs",
        "outputId": "138836dc-3e50-4b3a-ef6c-919ca5e94ac9"
      },
      "execution_count": null,
      "outputs": [
        {
          "output_type": "stream",
          "name": "stdout",
          "text": [
            "===== مقایسه اقتصادی پروژه‌ها =====\n"
          ]
        }
      ]
    }
  ]
}